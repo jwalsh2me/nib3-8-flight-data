{
 "cells": [
  {
   "cell_type": "code",
   "execution_count": null,
   "metadata": {},
   "outputs": [],
   "source": [
    "%pip install matplotlib\n",
    "%pip install pandas\n",
    "%pip install numpy"
   ]
  },
  {
   "cell_type": "code",
   "execution_count": 3,
   "metadata": {},
   "outputs": [
    {
     "name": "stdout",
     "output_type": "stream",
     "text": [
      "[['3728781392' '2021-12-22 17:48:00' '10' ... '17:48:00' '900' '2952']\n",
      " ['3728781640' '2021-12-22 17:48:00' '10' ... '17:48:00' '900' '2952']\n",
      " ['3728782921' '2021-12-22 17:48:00' '10' ... '17:48:00' '900' '2952']\n",
      " ...\n",
      " ['3783952646' '2022-01-07 23:38:00' '14' ... '23:38:00' '6900' '22632']\n",
      " ['3783956963' '2022-01-07 23:38:00' '14' ... '23:38:00' '6900' '22632']\n",
      " ['3783953642' '2022-01-07 23:40:00' '14' ... '23:40:00' '1060' '3477']]\n"
     ]
    }
   ],
   "source": [
    "import csv\n",
    "import itertools\n",
    "# import math as math\n",
    "import re\n",
    "# import matplotlib.pyplot as plt\n",
    "import pandas as pd\n",
    "# import numpy as np\n",
    "\n",
    "header = []\n",
    "parsed_dt = []\n",
    "alt = []\n",
    "\n",
    "with open(\"2022-01-08-flt8.csv\", 'r') as file:\n",
    "    data = csv.reader(file)\n",
    "    header = next(data)\n",
    "    for row in data:\n",
    "        alt = []\n",
    "        splitval = row[1].split(' ')\n",
    "        eights = re.search('^..:.8', splitval[1])\n",
    "        if eights == None:\n",
    "            alt_m = int(row[15])*20 #* Type 3 WSPR message decode x 20 (20m per dBm)\n",
    "        else:\n",
    "            alt_m = int(row[15])*300 #* Type 1 or 2 WSPR message decode x 300 (300m per dBm)\n",
    "        # print(f\"Alt in m: {alt_m}\")\n",
    "        alt.append(alt_m)\n",
    "        alt_ft = alt_m * 3.28 #* Convert meters to feet\n",
    "        alt_ft_str = f\"{alt_ft:.0f}\"\n",
    "        # print(f\"Alt in feet: {alt_ft_str}\")\n",
    "        alt.append(alt_ft_str)\n",
    "        parsed_dt.append(list(itertools.chain(row, splitval, alt)))\n",
    "\n",
    "\n",
    "\n",
    "# for row in parsed_dt:\n",
    "#     eights = re.search('^..:.8', row[20])\n",
    "#     if eights == None:\n",
    "#         print (\"Dropping a zero hour\")\n",
    "#     else:\n",
    "#         parsed_eights.append(row)\n",
    "#         # continue\n",
    "#         print(eights)\n",
    "#         continue\n",
    "\n",
    "# header.pop(1)\n",
    "add_headers = ['date', 'time', 'power_watts', 'altitude_m', 'altitude_ft']\n",
    "header.extend(add_headers)\n",
    "\n",
    "\n",
    "with open('cleaned.csv', \"w\",newline=\"\") as f:\n",
    "    writer = csv.writer(f)\n",
    "    # print(header)\n",
    "    writer.writerow(header)\n",
    "    for row in parsed_dt:\n",
    "        writer.writerow(row)\n",
    "\n",
    "\n",
    "numpy_array = np.array(parsed_dt)\n",
    "\n",
    "print(numpy_array)"
   ]
  },
  {
   "cell_type": "code",
   "execution_count": null,
   "metadata": {},
   "outputs": [
    {
     "data": {
      "text/plain": [
       "24019.102702950735"
      ]
     },
     "execution_count": 183,
     "metadata": {},
     "output_type": "execute_result"
    }
   ],
   "source": [
    "# pow(10,3/10)/1000\n",
    "\n",
    "10*math.log(3/0.001)*300"
   ]
  }
 ],
 "metadata": {
  "interpreter": {
   "hash": "a03362ae59e510fbef3688c7f44ad9f68ff91dccf1f88afda0b9940e7076fd5d"
  },
  "kernelspec": {
   "display_name": "Python 3.8.7 64-bit ('3.8.7': pyenv)",
   "language": "python",
   "name": "python3"
  },
  "language_info": {
   "codemirror_mode": {
    "name": "ipython",
    "version": 3
   },
   "file_extension": ".py",
   "mimetype": "text/x-python",
   "name": "python",
   "nbconvert_exporter": "python",
   "pygments_lexer": "ipython3",
   "version": "3.8.12"
  },
  "orig_nbformat": 4
 },
 "nbformat": 4,
 "nbformat_minor": 2
}
