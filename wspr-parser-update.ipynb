{
 "cells": [
  {
   "cell_type": "code",
   "execution_count": 24,
   "metadata": {},
   "outputs": [
    {
     "name": "stdout",
     "output_type": "stream",
     "text": [
      "['id', 'datetime', 'band', 'rx_sign', 'rx_lat', 'rx_lon', 'rx_loc', 'tx_sign', 'tx_lat', 'tx_lon', 'tx_loc', 'distance', 'azimuth', 'rx_azimuth', 'frequency', 'power', 'snr', 'drift', 'version', 'code', 'date', 'time', 'altitude_m', 'altitude_ft']\n"
     ]
    }
   ],
   "source": [
    "import csv\n",
    "import itertools\n",
    "import re\n",
    "\n",
    "#* ENVS\n",
    "wspr_csv = \"2022-01-08-flt8.csv\"\n",
    "time_slot = 8\n",
    "re_time_slot = f'^..:.{time_slot}'\n",
    "\n",
    "header = []\n",
    "parsed_dt = []\n",
    "alt = []\n",
    "\n",
    "\n",
    "def alt_calc(power,split_ts):\n",
    "    if split_ts == None:\n",
    "        alt_m = int(power)*20 #* Type 3 WSPR message decode x 20 (20m per dBm)\n",
    "    else:\n",
    "        alt_m = int(power)*300 #* Type 1 or 2 WSPR message decode x 300 (300m per dBm)\n",
    "    alt_ft = alt_m * 3.28 #* Convert meters to feet\n",
    "    return (alt_m, int(alt_ft))\n",
    "\n",
    "\n",
    "with open(wspr_csv, 'r') as file:\n",
    "    data = csv.reader(file)\n",
    "    header = next(data)\n",
    "    for row in data:\n",
    "        alt = []\n",
    "        split_dt = row[1].split(' ')\n",
    "        split_ts = re.search(re_time_slot, split_dt[1])\n",
    "        alt_m = alt_calc(row[15], split_ts)\n",
    "        alt.extend(alt_m)\n",
    "        parsed_dt.append(list(itertools.chain(row, split_dt, alt)))\n",
    "\n",
    "add_headers = ['date', 'time', 'altitude_m', 'altitude_ft']\n",
    "header.extend(add_headers)\n",
    "\n",
    "with open(f'parsed_{wspr_csv}', \"w\",newline=\"\") as f:\n",
    "    writer = csv.writer(f)\n",
    "    header[1] = 'datetime'\n",
    "    print(header)\n",
    "    writer.writerow(header)\n",
    "    for row in parsed_dt:\n",
    "        writer.writerow(row)"
   ]
  }
 ],
 "metadata": {
  "interpreter": {
   "hash": "c24598127790dff1bbb08ea400ced7bfccb01324bfc70ba39ac0819a14ddd648"
  },
  "kernelspec": {
   "display_name": "Python 3.8.12 64-bit ('3.8.12': pyenv)",
   "language": "python",
   "name": "python3"
  },
  "language_info": {
   "codemirror_mode": {
    "name": "ipython",
    "version": 3
   },
   "file_extension": ".py",
   "mimetype": "text/x-python",
   "name": "python",
   "nbconvert_exporter": "python",
   "pygments_lexer": "ipython3",
   "version": "3.8.12"
  },
  "orig_nbformat": 4
 },
 "nbformat": 4,
 "nbformat_minor": 2
}
